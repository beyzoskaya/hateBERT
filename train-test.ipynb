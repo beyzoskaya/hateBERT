{
 "cells": [
  {
   "cell_type": "code",
   "execution_count": 20,
   "metadata": {},
   "outputs": [],
   "source": [
    "import pandas as pd\n",
    "from sklearn.model_selection import train_test_split\n",
    "\n",
    "df = pd.read_csv('dataset.csv')\n",
    "df = df.drop(columns=['annotaters'], errors='ignore')"
   ]
  },
  {
   "cell_type": "code",
   "execution_count": null,
   "metadata": {},
   "outputs": [],
   "source": [
    "def preprocess_data(df):\n",
    "    df_clean = df.copy()\n",
    "    \n",
    "    df_clean['hate'] = df_clean['label'].map({'h': 1, 'nh': 0}) # binary hate, non-hate\n",
    "    \n",
    "    target_map = {'p': 0, 'e': 1, 'r': 2} # numeric mapping of target categories\n",
    "    df_clean['target'] = df_clean['target'].str.lower().str.strip()\n",
    "    \n",
    "    # non-hate labels have no target\n",
    "    df_clean['target'] = (\n",
    "        df_clean['target']\n",
    "        .map(target_map)\n",
    "        .where(df_clean['target'].isin(target_map.keys()))\n",
    "    )\n",
    "    df_clean['target'] = df_clean['target'].fillna(-100).astype(int)\n",
    "    \n",
    "    invalid_hate_mask = (df_clean['hate'] == 1) & (df_clean['target'] == -100)\n",
    "    df_clean.loc[invalid_hate_mask, 'hate'] = 0\n",
    "    \n",
    "    return df_clean"
   ]
  },
  {
   "cell_type": "code",
   "execution_count": null,
   "metadata": {},
   "outputs": [],
   "source": [
    "def validate_dataset(df):\n",
    "    assert set(df['hate'].unique()).issubset({0, 1}), f\"Invalid hate labels: {df['hate'].unique()}\"\n",
    "    \n",
    "    valid_targets = {-100, 0, 1, 2}\n",
    "    invalid_targets = set(df['target'].unique()) - valid_targets\n",
    "    assert not invalid_targets, f\"Invalid targets detected: {invalid_targets}\"\n",
    "    \n",
    "    nh_mask = df['hate'] == 0\n",
    "    assert (df.loc[nh_mask, 'target'] == -100).all(), \"Non-hate samples have invalid targets\"\n",
    "    \n",
    "    assert not df['text'].isna().any(), \"NaN in sentence column\"\n",
    "    assert not df['hate'].isna().any(), \"NaN in hate column\"\n",
    "    assert not df['target'].isna().any(), \"NaN in target column\"\n",
    "    \n",
    "    print(\"All dataset validation checks passed!\")"
   ]
  },
  {
   "cell_type": "code",
   "execution_count": 34,
   "metadata": {},
   "outputs": [
    {
     "name": "stdout",
     "output_type": "stream",
     "text": [
      "All dataset validation checks passed!\n"
     ]
    }
   ],
   "source": [
    "df_clean = preprocess_data(df)\n",
    "\n",
    "validate_dataset(df_clean)"
   ]
  }
 ],
 "metadata": {
  "kernelspec": {
   "display_name": "turkish-bert",
   "language": "python",
   "name": "python3"
  },
  "language_info": {
   "codemirror_mode": {
    "name": "ipython",
    "version": 3
   },
   "file_extension": ".py",
   "mimetype": "text/x-python",
   "name": "python",
   "nbconvert_exporter": "python",
   "pygments_lexer": "ipython3",
   "version": "3.8.20"
  }
 },
 "nbformat": 4,
 "nbformat_minor": 2
}
